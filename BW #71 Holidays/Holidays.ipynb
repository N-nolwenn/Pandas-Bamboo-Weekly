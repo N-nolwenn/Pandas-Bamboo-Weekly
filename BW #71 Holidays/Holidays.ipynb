{
 "cells": [
  {
   "cell_type": "markdown",
   "metadata": {},
   "source": [
    "# BW \\#71 Holidays\n",
    "The goal is to create a a dataframe with holidays from around the world based on a database on PyPI, and then we'll run lots of queries about it.\n",
    "\n",
    "## Data and six questions\n",
    "The original data comes from the  `holidays` package on PyPI, which lets you retrieve the holidays for any country in any year range. In order to query this data for all countries, we need to download the `pycountry` package as well, using its 2 character country codes to make your queries of the holidays package. \n",
    "\n",
    "## Challenges\n",
    "The learning goals include creating a data frame from Python data, string handling, date handling, grouping, and joins.\n",
    "- Create a data frame with four columns (country name, alpha2, date, and holiday name) for all countries, from the years 2010 through 2024. Use the pycountry module (from PyPI) to go through all of the countries in the world, and the holidays module (also from PyPI) to grab all of the holidays from there. The dates\n",
    "should be in a datetime column.\n",
    "- Which countries have holidays in June 2024? Which of this month's holidays, if any, are celebrated in more than one country? Do we see any issues that might result in a mis-count?\n"
   ]
  },
  {
   "cell_type": "code",
   "execution_count": 1,
   "metadata": {},
   "outputs": [],
   "source": [
    "import pandas as pd \n",
    "import holidays\n",
    "import pycountry"
   ]
  },
  {
   "cell_type": "code",
   "execution_count": 2,
   "metadata": {},
   "outputs": [],
   "source": [
    "# Create an empty DataFrame with specified columns\n",
    "df = pd.DataFrame(columns=['country name', 'alpha2', 'date', 'holiday name'])\n",
    "\n",
    "# Generate a date range\n",
    "df['date'] = pd.date_range(start='2010-01-01', end='2024-12-31', freq='D')\n",
    "\n",
    "# Convert the dates to the desired format if necessary\n",
    "df['date'] = pd.to_datetime(df['date'], errors='coerce')\n"
   ]
  },
  {
   "cell_type": "code",
   "execution_count": 23,
   "metadata": {},
   "outputs": [
    {
     "name": "stdout",
     "output_type": "stream",
     "text": [
      "Requirement already satisfied: holidays in c:\\users\\npigeon\\appdata\\local\\programs\\python\\python310\\lib\\site-packages (0.53)\n",
      "Collecting holidays\n",
      "  Downloading holidays-0.55-py3-none-any.whl.metadata (23 kB)\n",
      "Requirement already satisfied: python-dateutil in c:\\users\\npigeon\\appdata\\roaming\\python\\python310\\site-packages (from holidays) (2.9.0.post0)\n",
      "Requirement already satisfied: six>=1.5 in c:\\users\\npigeon\\appdata\\roaming\\python\\python310\\site-packages (from python-dateutil->holidays) (1.16.0)\n",
      "Downloading holidays-0.55-py3-none-any.whl (1.1 MB)\n",
      "   ---------------------------------------- 0.0/1.1 MB ? eta -:--:--\n",
      "   ---------------------------------------- 0.0/1.1 MB ? eta -:--:--\n",
      "   ---------------------------------------- 0.0/1.1 MB ? eta -:--:--\n",
      "   --------- ------------------------------ 0.3/1.1 MB ? eta -:--:--\n",
      "   --------- ------------------------------ 0.3/1.1 MB ? eta -:--:--\n",
      "   ------------------- -------------------- 0.5/1.1 MB 621.2 kB/s eta 0:00:01\n",
      "   ------------------- -------------------- 0.5/1.1 MB 621.2 kB/s eta 0:00:01\n",
      "   ----------------------------- ---------- 0.8/1.1 MB 599.2 kB/s eta 0:00:01\n",
      "   ----------------------------- ---------- 0.8/1.1 MB 599.2 kB/s eta 0:00:01\n",
      "   ---------------------------------------- 1.1/1.1 MB 587.3 kB/s eta 0:00:00\n",
      "Installing collected packages: holidays\n",
      "  Attempting uninstall: holidays\n",
      "    Found existing installation: holidays 0.53\n",
      "    Uninstalling holidays-0.53:\n",
      "      Successfully uninstalled holidays-0.53\n",
      "Successfully installed holidays-0.55\n"
     ]
    }
   ],
   "source": [
    "!pip install --upgrade holidays"
   ]
  },
  {
   "cell_type": "code",
   "execution_count": 33,
   "metadata": {},
   "outputs": [
    {
     "name": "stderr",
     "output_type": "stream",
     "text": [
      "c:\\Users\\npigeon\\AppData\\Local\\Programs\\Python\\Python310\\lib\\site-packages\\holidays\\countries\\marshall_islands.py:38: Warning: Years before 2020 are not available for the Marshall Islands (MH).\n",
      "  warnings.warn(\n"
     ]
    },
    {
     "data": {
      "text/html": [
       "<div>\n",
       "<style scoped>\n",
       "    .dataframe tbody tr th:only-of-type {\n",
       "        vertical-align: middle;\n",
       "    }\n",
       "\n",
       "    .dataframe tbody tr th {\n",
       "        vertical-align: top;\n",
       "    }\n",
       "\n",
       "    .dataframe thead th {\n",
       "        text-align: right;\n",
       "    }\n",
       "</style>\n",
       "<table border=\"1\" class=\"dataframe\">\n",
       "  <thead>\n",
       "    <tr style=\"text-align: right;\">\n",
       "      <th></th>\n",
       "      <th>country</th>\n",
       "      <th>alpha_2</th>\n",
       "      <th>date</th>\n",
       "      <th>holiday</th>\n",
       "    </tr>\n",
       "  </thead>\n",
       "  <tbody>\n",
       "    <tr>\n",
       "      <th>0</th>\n",
       "      <td>Aruba</td>\n",
       "      <td>AW</td>\n",
       "      <td>2016-01-01</td>\n",
       "      <td>Aña Nobo</td>\n",
       "    </tr>\n",
       "    <tr>\n",
       "      <th>1</th>\n",
       "      <td>Aruba</td>\n",
       "      <td>AW</td>\n",
       "      <td>2016-01-25</td>\n",
       "      <td>Dia di Betico</td>\n",
       "    </tr>\n",
       "    <tr>\n",
       "      <th>2</th>\n",
       "      <td>Aruba</td>\n",
       "      <td>AW</td>\n",
       "      <td>2016-02-08</td>\n",
       "      <td>Dialuna despues di Carnaval Grandi</td>\n",
       "    </tr>\n",
       "    <tr>\n",
       "      <th>3</th>\n",
       "      <td>Aruba</td>\n",
       "      <td>AW</td>\n",
       "      <td>2016-03-18</td>\n",
       "      <td>Dia di Himno y Bandera</td>\n",
       "    </tr>\n",
       "    <tr>\n",
       "      <th>4</th>\n",
       "      <td>Aruba</td>\n",
       "      <td>AW</td>\n",
       "      <td>2016-03-25</td>\n",
       "      <td>Bierna Santo</td>\n",
       "    </tr>\n",
       "    <tr>\n",
       "      <th>...</th>\n",
       "      <td>...</td>\n",
       "      <td>...</td>\n",
       "      <td>...</td>\n",
       "      <td>...</td>\n",
       "    </tr>\n",
       "    <tr>\n",
       "      <th>30953</th>\n",
       "      <td>Zimbabwe</td>\n",
       "      <td>ZW</td>\n",
       "      <td>2015-08-10</td>\n",
       "      <td>Zimbabwe Heroes' Day</td>\n",
       "    </tr>\n",
       "    <tr>\n",
       "      <th>30954</th>\n",
       "      <td>Zimbabwe</td>\n",
       "      <td>ZW</td>\n",
       "      <td>2015-08-11</td>\n",
       "      <td>Defense Forces Day</td>\n",
       "    </tr>\n",
       "    <tr>\n",
       "      <th>30955</th>\n",
       "      <td>Zimbabwe</td>\n",
       "      <td>ZW</td>\n",
       "      <td>2015-12-22</td>\n",
       "      <td>Unity Day</td>\n",
       "    </tr>\n",
       "    <tr>\n",
       "      <th>30956</th>\n",
       "      <td>Zimbabwe</td>\n",
       "      <td>ZW</td>\n",
       "      <td>2015-12-25</td>\n",
       "      <td>Christmas Day</td>\n",
       "    </tr>\n",
       "    <tr>\n",
       "      <th>30957</th>\n",
       "      <td>Zimbabwe</td>\n",
       "      <td>ZW</td>\n",
       "      <td>2015-12-26</td>\n",
       "      <td>Boxing Day</td>\n",
       "    </tr>\n",
       "  </tbody>\n",
       "</table>\n",
       "<p>30958 rows × 4 columns</p>\n",
       "</div>"
      ],
      "text/plain": [
       "        country alpha_2       date                             holiday\n",
       "0         Aruba      AW 2016-01-01                            Aña Nobo\n",
       "1         Aruba      AW 2016-01-25                       Dia di Betico\n",
       "2         Aruba      AW 2016-02-08  Dialuna despues di Carnaval Grandi\n",
       "3         Aruba      AW 2016-03-18              Dia di Himno y Bandera\n",
       "4         Aruba      AW 2016-03-25                        Bierna Santo\n",
       "...         ...     ...        ...                                 ...\n",
       "30953  Zimbabwe      ZW 2015-08-10                Zimbabwe Heroes' Day\n",
       "30954  Zimbabwe      ZW 2015-08-11                  Defense Forces Day\n",
       "30955  Zimbabwe      ZW 2015-12-22                           Unity Day\n",
       "30956  Zimbabwe      ZW 2015-12-25                       Christmas Day\n",
       "30957  Zimbabwe      ZW 2015-12-26                          Boxing Day\n",
       "\n",
       "[30958 rows x 4 columns]"
      ]
     },
     "execution_count": 33,
     "metadata": {},
     "output_type": "execute_result"
    }
   ],
   "source": [
    "all_holidays = []\n",
    "\n",
    "for one_country in pycountry.countries:\n",
    "    try:\n",
    "        for (holiday_date, \n",
    "             holiday_name) in holidays.country_holidays(\n",
    "                                        one_country.alpha_2,\n",
    "                                        years=range(2010, 2025)\n",
    "                                                ).items():\n",
    "            all_holidays.append([one_country.name,\n",
    "                                 one_country.alpha_2,\n",
    "                                 holiday_date,\n",
    "                                 holiday_name])\n",
    "    except NotImplementedError as e:\n",
    "        pass\n",
    "\n",
    "df = (pd.DataFrame(all_holidays, \n",
    "                columns='country alpha_2 date holiday'.split())\n",
    "    .assign(date=lambda df_: pd.to_datetime(df_['date']))\n",
    "     )\n",
    "df"
   ]
  },
  {
   "cell_type": "markdown",
   "metadata": {},
   "source": [
    "## Which countries have holidays in June 2024?"
   ]
  },
  {
   "cell_type": "markdown",
   "metadata": {},
   "source": [
    "Let's start by finding all of the rows in our data frame with a holiday in June, 2024. One easy way to do this is by setting the date column to be our data frame's index with set_index. With that in place, we can use loc to retrieve only those rows that match our year and month by leaving out the date.\n",
    "\n",
    "Now that we've removed rows from other months and years, let's count the number of times each country appears. We can do this by retrieving only the country column and then running drop_duplicates on the result:\n",
    "\n",
    "We find that 88 different countries have at least one holiday this month.\n",
    "\n"
   ]
  },
  {
   "cell_type": "code",
   "execution_count": 42,
   "metadata": {},
   "outputs": [
    {
     "data": {
      "text/plain": [
       "date\n",
       "2024-06-16                              Albania\n",
       "2024-06-15                 United Arab Emirates\n",
       "2024-06-20                            Argentina\n",
       "2024-06-19                       American Samoa\n",
       "2024-06-15                           Azerbaijan\n",
       "                            ...                \n",
       "2024-06-16                           Uzbekistan\n",
       "2024-06-29        Holy See (Vatican City State)\n",
       "2024-06-24    Venezuela, Bolivarian Republic of\n",
       "2024-06-19                 Virgin Islands, U.S.\n",
       "2024-06-16                         South Africa\n",
       "Name: country, Length: 88, dtype: object"
      ]
     },
     "execution_count": 42,
     "metadata": {},
     "output_type": "execute_result"
    }
   ],
   "source": [
    "(\n",
    "    df\n",
    "    .set_index('date')\n",
    "    .loc['2024-06']\n",
    "    ['country']\n",
    "    .drop_duplicates()\n",
    ")\n"
   ]
  },
  {
   "cell_type": "markdown",
   "metadata": {},
   "source": [
    "i want to filter the rows where the date is in june 2024 and get the unique countries. We find that 88 different countries have at least one holiday this month.\n",
    "\n"
   ]
  },
  {
   "cell_type": "code",
   "execution_count": 45,
   "metadata": {},
   "outputs": [
    {
     "data": {
      "text/plain": [
       "88"
      ]
     },
     "execution_count": 45,
     "metadata": {},
     "output_type": "execute_result"
    }
   ],
   "source": [
    "df[(df['date'].dt.year == 2024) & (df['date'].dt.month == 6)]['country'].nunique()"
   ]
  },
  {
   "cell_type": "markdown",
   "metadata": {},
   "source": [
    "## Which of this month's holidays, if any, are celebrated in more than one country? "
   ]
  },
  {
   "cell_type": "code",
   "execution_count": 58,
   "metadata": {},
   "outputs": [
    {
     "data": {
      "text/plain": [
       "holiday\n",
       "(تقدير) عطلة عيد الأضحى                 [United Arab Emirates, Bahrain, Algeria, Egypt...\n",
       "(تقدير) عيد الأضحى                      [United Arab Emirates, Bahrain, Algeria, Egypt...\n",
       "(تقدير) يوم عرفة                           [Egypt, Jordan, Kuwait, Saudi Arabia, Tunisia]\n",
       "Eid al-Adha (estimated)                 [Albania, Burkina Faso, Cameroon, Gabon, India...\n",
       "Eid al-Adha (estimated) (observed)                                    [Albania, Cameroon]\n",
       "Juneteenth National Independence Day    [American Samoa, Guam, Northern Mariana Island...\n",
       "King's Birthday                                           [New Zealand, Papua New Guinea]\n",
       "San Pedro y San Pablo                                                       [Chile, Peru]\n",
       "Δευτέρα του Αγίου Πνεύματος                                              [Cyprus, Greece]\n",
       "Name: country, dtype: object"
      ]
     },
     "execution_count": 58,
     "metadata": {},
     "output_type": "execute_result"
    }
   ],
   "source": [
    "holiday_count = df[(df['date'].dt.year == 2024) & (df['date'].dt.month == 6)].groupby('holiday')['country'].unique()\n",
    "holiday_count[holiday_count.apply(len) > 1]\n"
   ]
  },
  {
   "cell_type": "code",
   "execution_count": 50,
   "metadata": {},
   "outputs": [
    {
     "data": {
      "text/plain": [
       "holiday\n",
       "(تقدير) عطلة عيد الأضحى                 17\n",
       "Eid al-Adha (estimated)                 11\n",
       "(تقدير) عيد الأضحى                       9\n",
       "Juneteenth National Independence Day     7\n",
       "(تقدير) يوم عرفة                         5\n",
       "Söndag                                   5\n",
       "Kurban Bayramı                           4\n",
       "Eid-ul-Adha (estimated)                  3\n",
       "Eid al-Adha (estimated) (observed)       2\n",
       "King's Birthday                          2\n",
       "Qurban bayrami (təxmini)                 2\n",
       "Rusaliile                                2\n",
       "San Pedro y San Pablo                    2\n",
       "Δευτέρα του Αγίου Πνεύματος              2\n",
       "Name: country, dtype: int64"
      ]
     },
     "execution_count": 50,
     "metadata": {},
     "output_type": "execute_result"
    }
   ],
   "source": [
    "(\n",
    "    df\n",
    "    .set_index('date')\n",
    "    .loc['2024-06']\n",
    "    .groupby('holiday')['country'].count()\n",
    "    .loc[lambda s_: s_ > 1]\n",
    "    .sort_values(ascending=False)    \n",
    ")"
   ]
  },
  {
   "cell_type": "markdown",
   "metadata": {},
   "source": [
    "## Do we see any issues that might result in a mis-count?"
   ]
  },
  {
   "cell_type": "code",
   "execution_count": null,
   "metadata": {},
   "outputs": [],
   "source": []
  }
 ],
 "metadata": {
  "kernelspec": {
   "display_name": "Python 3",
   "language": "python",
   "name": "python3"
  },
  "language_info": {
   "codemirror_mode": {
    "name": "ipython",
    "version": 3
   },
   "file_extension": ".py",
   "mimetype": "text/x-python",
   "name": "python",
   "nbconvert_exporter": "python",
   "pygments_lexer": "ipython3",
   "version": "3.10.10"
  }
 },
 "nbformat": 4,
 "nbformat_minor": 2
}
