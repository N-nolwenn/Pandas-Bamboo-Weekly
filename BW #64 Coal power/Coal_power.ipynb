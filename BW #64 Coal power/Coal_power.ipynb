{
 "cells": [
  {
   "cell_type": "markdown",
   "metadata": {},
   "source": [
    "# BW \\#64 Coal Power\n",
    "\n",
    "One way to reduce and slow climate change is by reducing the degree to which we generate energy using fossil fuels.\n",
    "\n",
    "The G7 just announced a plan to dramatically reduce the use of coal for power plants by the year 2035. What countries use coal, and are newer plants cleaner than older ones?\n",
    "\n",
    "We try to understand which countries are still running coal plants, what kind of coal and process they're using, and how much emissions they're creating.\n",
    "\n",
    "## Data and seven questions\n",
    "To download the data, you'll need to go to the \"download data\" link:\n",
    "\n",
    "https://globalenergymonitor.org/projects/global-coal-plant-tracker/download-data/\n",
    "\n",
    "## Challenges\n",
    "The learning goals include reducing memory usage, grouping, pivot tables, and various types of plotting.\n",
    "\n",
    "- Download the Excel spreadsheet, and load the \"Units\" sheet from that document into a data frame. We'll only want the following columns: \"Country\", \"Capacity (MW)\", \"Status\", \"Start year\", \"Combustion technology\", \"Coal type\", \"Region\", and \"Annual CO2 (million tonnes / annum)\".\n",
    "- How much memory does the data frame take up? How much memory do you save by turning columns into categories? Which columns are most (and least) likely to save us memory in this way? Are there any columns that we could turn into categories, but shouldn't?\n"
   ]
  },
  {
   "cell_type": "code",
   "execution_count": 1,
   "metadata": {},
   "outputs": [],
   "source": [
    "import pandas as pd"
   ]
  },
  {
   "cell_type": "code",
   "execution_count": 29,
   "metadata": {},
   "outputs": [],
   "source": [
    "filename = \"C:\\\\Users\\\\npigeon\\\\Git\\\\BW #64 Coal power\\\\global-coal-plant-tracker-january-2024.xlsx\"\n",
    "df = pd.read_excel(filename, sheet_name='Units',\n",
    "                  usecols=[\"Country\", \"Capacity (MW)\", \"Status\", \n",
    "                           \"Start year\", \"Combustion technology\", \n",
    "                           \"Coal type\", \"Region\", \n",
    "                           \"Annual CO2 (million tonnes / annum)\"])"
   ]
  },
  {
   "cell_type": "code",
   "execution_count": 9,
   "metadata": {},
   "outputs": [
    {
     "data": {
      "text/html": [
       "<div>\n",
       "<style scoped>\n",
       "    .dataframe tbody tr th:only-of-type {\n",
       "        vertical-align: middle;\n",
       "    }\n",
       "\n",
       "    .dataframe tbody tr th {\n",
       "        vertical-align: top;\n",
       "    }\n",
       "\n",
       "    .dataframe thead th {\n",
       "        text-align: right;\n",
       "    }\n",
       "</style>\n",
       "<table border=\"1\" class=\"dataframe\">\n",
       "  <thead>\n",
       "    <tr style=\"text-align: right;\">\n",
       "      <th></th>\n",
       "      <th>Country</th>\n",
       "      <th>Capacity (MW)</th>\n",
       "      <th>Status</th>\n",
       "      <th>Start year</th>\n",
       "      <th>Combustion technology</th>\n",
       "      <th>Coal type</th>\n",
       "      <th>Region</th>\n",
       "      <th>Annual CO2 (million tonnes / annum)</th>\n",
       "    </tr>\n",
       "  </thead>\n",
       "  <tbody>\n",
       "    <tr>\n",
       "      <th>0</th>\n",
       "      <td>Albania</td>\n",
       "      <td>800.0</td>\n",
       "      <td>cancelled</td>\n",
       "      <td>NaN</td>\n",
       "      <td>ultra-supercritical</td>\n",
       "      <td>bituminous</td>\n",
       "      <td>Europe</td>\n",
       "      <td>3.1</td>\n",
       "    </tr>\n",
       "    <tr>\n",
       "      <th>1</th>\n",
       "      <td>Argentina</td>\n",
       "      <td>120.0</td>\n",
       "      <td>operating</td>\n",
       "      <td>2022.0</td>\n",
       "      <td>subcritical</td>\n",
       "      <td>bituminous</td>\n",
       "      <td>Americas</td>\n",
       "      <td>0.6</td>\n",
       "    </tr>\n",
       "    <tr>\n",
       "      <th>2</th>\n",
       "      <td>Argentina</td>\n",
       "      <td>120.0</td>\n",
       "      <td>construction</td>\n",
       "      <td>2023.0</td>\n",
       "      <td>subcritical</td>\n",
       "      <td>bituminous</td>\n",
       "      <td>Americas</td>\n",
       "      <td>0.6</td>\n",
       "    </tr>\n",
       "    <tr>\n",
       "      <th>3</th>\n",
       "      <td>Argentina</td>\n",
       "      <td>375.0</td>\n",
       "      <td>operating</td>\n",
       "      <td>1983.0</td>\n",
       "      <td>subcritical</td>\n",
       "      <td>bituminous</td>\n",
       "      <td>Americas</td>\n",
       "      <td>2.0</td>\n",
       "    </tr>\n",
       "    <tr>\n",
       "      <th>4</th>\n",
       "      <td>Australia</td>\n",
       "      <td>160.0</td>\n",
       "      <td>retired</td>\n",
       "      <td>1969.0</td>\n",
       "      <td>subcritical</td>\n",
       "      <td>lignite</td>\n",
       "      <td>Oceania</td>\n",
       "      <td>1.0</td>\n",
       "    </tr>\n",
       "    <tr>\n",
       "      <th>...</th>\n",
       "      <td>...</td>\n",
       "      <td>...</td>\n",
       "      <td>...</td>\n",
       "      <td>...</td>\n",
       "      <td>...</td>\n",
       "      <td>...</td>\n",
       "      <td>...</td>\n",
       "      <td>...</td>\n",
       "    </tr>\n",
       "    <tr>\n",
       "      <th>13901</th>\n",
       "      <td>Zimbabwe</td>\n",
       "      <td>135.0</td>\n",
       "      <td>construction</td>\n",
       "      <td>NaN</td>\n",
       "      <td>unknown</td>\n",
       "      <td>unknown</td>\n",
       "      <td>Africa</td>\n",
       "      <td>0.7</td>\n",
       "    </tr>\n",
       "    <tr>\n",
       "      <th>13902</th>\n",
       "      <td>Zimbabwe</td>\n",
       "      <td>135.0</td>\n",
       "      <td>construction</td>\n",
       "      <td>NaN</td>\n",
       "      <td>unknown</td>\n",
       "      <td>unknown</td>\n",
       "      <td>Africa</td>\n",
       "      <td>0.7</td>\n",
       "    </tr>\n",
       "    <tr>\n",
       "      <th>13903</th>\n",
       "      <td>Zimbabwe</td>\n",
       "      <td>300.0</td>\n",
       "      <td>announced</td>\n",
       "      <td>2025.0</td>\n",
       "      <td>unknown</td>\n",
       "      <td>unknown</td>\n",
       "      <td>Africa</td>\n",
       "      <td>1.3</td>\n",
       "    </tr>\n",
       "    <tr>\n",
       "      <th>13904</th>\n",
       "      <td>Zimbabwe</td>\n",
       "      <td>300.0</td>\n",
       "      <td>announced</td>\n",
       "      <td>2025.0</td>\n",
       "      <td>unknown</td>\n",
       "      <td>unknown</td>\n",
       "      <td>Africa</td>\n",
       "      <td>1.3</td>\n",
       "    </tr>\n",
       "    <tr>\n",
       "      <th>13905</th>\n",
       "      <td>Zimbabwe</td>\n",
       "      <td>1200.0</td>\n",
       "      <td>cancelled</td>\n",
       "      <td>NaN</td>\n",
       "      <td>unknown</td>\n",
       "      <td>unknown</td>\n",
       "      <td>Africa</td>\n",
       "      <td>4.9</td>\n",
       "    </tr>\n",
       "  </tbody>\n",
       "</table>\n",
       "<p>13906 rows × 8 columns</p>\n",
       "</div>"
      ],
      "text/plain": [
       "         Country  Capacity (MW)        Status  Start year  \\\n",
       "0        Albania          800.0     cancelled         NaN   \n",
       "1      Argentina          120.0     operating      2022.0   \n",
       "2      Argentina          120.0  construction      2023.0   \n",
       "3      Argentina          375.0     operating      1983.0   \n",
       "4      Australia          160.0       retired      1969.0   \n",
       "...          ...            ...           ...         ...   \n",
       "13901   Zimbabwe          135.0  construction         NaN   \n",
       "13902   Zimbabwe          135.0  construction         NaN   \n",
       "13903   Zimbabwe          300.0     announced      2025.0   \n",
       "13904   Zimbabwe          300.0     announced      2025.0   \n",
       "13905   Zimbabwe         1200.0     cancelled         NaN   \n",
       "\n",
       "      Combustion technology   Coal type    Region  \\\n",
       "0       ultra-supercritical  bituminous    Europe   \n",
       "1               subcritical  bituminous  Americas   \n",
       "2               subcritical  bituminous  Americas   \n",
       "3               subcritical  bituminous  Americas   \n",
       "4               subcritical     lignite   Oceania   \n",
       "...                     ...         ...       ...   \n",
       "13901               unknown     unknown    Africa   \n",
       "13902               unknown     unknown    Africa   \n",
       "13903               unknown     unknown    Africa   \n",
       "13904               unknown     unknown    Africa   \n",
       "13905               unknown     unknown    Africa   \n",
       "\n",
       "       Annual CO2 (million tonnes / annum)  \n",
       "0                                      3.1  \n",
       "1                                      0.6  \n",
       "2                                      0.6  \n",
       "3                                      2.0  \n",
       "4                                      1.0  \n",
       "...                                    ...  \n",
       "13901                                  0.7  \n",
       "13902                                  0.7  \n",
       "13903                                  1.3  \n",
       "13904                                  1.3  \n",
       "13905                                  4.9  \n",
       "\n",
       "[13906 rows x 8 columns]"
      ]
     },
     "execution_count": 9,
     "metadata": {},
     "output_type": "execute_result"
    }
   ],
   "source": [
    "df"
   ]
  },
  {
   "cell_type": "markdown",
   "metadata": {},
   "source": [
    "#### How much memory does the data frame take up?\n",
    "The df takes 4 301 719 octets 4.3MB"
   ]
  },
  {
   "cell_type": "code",
   "execution_count": 13,
   "metadata": {},
   "outputs": [
    {
     "data": {
      "text/plain": [
       "4301719"
      ]
     },
     "execution_count": 13,
     "metadata": {},
     "output_type": "execute_result"
    }
   ],
   "source": [
    "df.memory_usage(deep=True).sum()"
   ]
  },
  {
   "cell_type": "code",
   "execution_count": 14,
   "metadata": {},
   "outputs": [
    {
     "data": {
      "text/plain": [
       "Index                                     132\n",
       "Country                                778963\n",
       "Capacity (MW)                          111248\n",
       "Status                                 801876\n",
       "Start year                             111248\n",
       "Combustion technology                  839171\n",
       "Coal type                              800189\n",
       "Region                                 747644\n",
       "Annual CO2 (million tonnes / annum)    111248\n",
       "dtype: int64"
      ]
     },
     "execution_count": 14,
     "metadata": {},
     "output_type": "execute_result"
    }
   ],
   "source": [
    "df.memory_usage(deep=True)"
   ]
  },
  {
   "cell_type": "markdown",
   "metadata": {},
   "source": [
    "#### How much memory do you save by turning columns into categories?"
   ]
  },
  {
   "cell_type": "code",
   "execution_count": 17,
   "metadata": {},
   "outputs": [
    {
     "name": "stdout",
     "output_type": "stream",
     "text": [
      "<class 'pandas.core.frame.DataFrame'>\n",
      "RangeIndex: 13906 entries, 0 to 13905\n",
      "Data columns (total 8 columns):\n",
      " #   Column                               Non-Null Count  Dtype   \n",
      "---  ------                               --------------  -----   \n",
      " 0   Country                              13906 non-null  category\n",
      " 1   Capacity (MW)                        13906 non-null  float64 \n",
      " 2   Status                               13906 non-null  object  \n",
      " 3   Start year                           10281 non-null  float64 \n",
      " 4   Combustion technology                13906 non-null  object  \n",
      " 5   Coal type                            13906 non-null  object  \n",
      " 6   Region                               13906 non-null  object  \n",
      " 7   Annual CO2 (million tonnes / annum)  13906 non-null  float64 \n",
      "dtypes: category(1), float64(3), object(4)\n",
      "memory usage: 779.1+ KB\n"
     ]
    }
   ],
   "source": [
    "df.info()"
   ]
  },
  {
   "cell_type": "code",
   "execution_count": 24,
   "metadata": {},
   "outputs": [
    {
     "data": {
      "text/plain": [
       "186120"
      ]
     },
     "execution_count": 24,
     "metadata": {},
     "output_type": "execute_result"
    }
   ],
   "source": [
    "df = df.apply(lambda col: col.astype('category'))\n",
    "df.memory_usage(deep=True).sum()"
   ]
  },
  {
   "cell_type": "code",
   "execution_count": 25,
   "metadata": {},
   "outputs": [
    {
     "data": {
      "text/plain": [
       "4115599"
      ]
     },
     "execution_count": 25,
     "metadata": {},
     "output_type": "execute_result"
    }
   ],
   "source": [
    "4301719 - 186120"
   ]
  },
  {
   "cell_type": "markdown",
   "metadata": {},
   "source": [
    "We save 4 115 599 octets 4.1MB"
   ]
  },
  {
   "cell_type": "markdown",
   "metadata": {},
   "source": [
    "**Correction**\n",
    "\n",
    "The After memory usage is After:\t     416,504\n",
    "\n",
    "So we saved 3885215"
   ]
  },
  {
   "cell_type": "code",
   "execution_count": 30,
   "metadata": {},
   "outputs": [
    {
     "name": "stdout",
     "output_type": "stream",
     "text": [
      "After:\t     416,504\n"
     ]
    }
   ],
   "source": [
    "for one_column in df.select_dtypes(exclude='float64').columns:\n",
    "    df[one_column] = df[one_column].astype('category')\n",
    "\n",
    "after_memory_usage = df.memory_usage(deep=True).sum()\n",
    "print(f'After:\\t{after_memory_usage:>12,}')\n"
   ]
  },
  {
   "cell_type": "code",
   "execution_count": 31,
   "metadata": {},
   "outputs": [
    {
     "data": {
      "text/plain": [
       "3885215"
      ]
     },
     "execution_count": 31,
     "metadata": {},
     "output_type": "execute_result"
    }
   ],
   "source": [
    "4301719- 416504"
   ]
  },
  {
   "cell_type": "markdown",
   "metadata": {},
   "source": [
    "By the way, I decided to try specifying the use of PyArrow for the dtype backend, rather than NumPy, to see what sort of memory savings we might enjoy:"
   ]
  },
  {
   "cell_type": "code",
   "execution_count": 32,
   "metadata": {},
   "outputs": [],
   "source": [
    "dfa = pd.read_excel(filename, sheet_name='Units',\n",
    "                  usecols=[\"Country\", \"Capacity (MW)\", \"Status\", \n",
    "                           \"Start year\", \"Combustion technology\", \n",
    "                           \"Coal type\", \"Region\", \n",
    "                           \"Annual CO2 (million tonnes / annum)\"],\n",
    "                   dtype_backend='pyarrow')\n"
   ]
  },
  {
   "cell_type": "markdown",
   "metadata": {},
   "source": [
    "I then calculated the memory usage. Note that because PyArrow stores all of the values right in Apache Arrow, and not in Python, there’s no need to say “deep=True”. Then let’s see how much we save:\n",
    "\n"
   ]
  },
  {
   "cell_type": "code",
   "execution_count": 34,
   "metadata": {},
   "outputs": [
    {
     "name": "stdout",
     "output_type": "stream",
     "text": [
      "Arrow:\t   1,170,873\n"
     ]
    }
   ],
   "source": [
    "arrow_memory_usage = dfa.memory_usage().sum()\n",
    "print(f'Arrow:\\t{(arrow_memory_usage):>12,}')\n"
   ]
  },
  {
   "cell_type": "code",
   "execution_count": 35,
   "metadata": {},
   "outputs": [
    {
     "data": {
      "text/plain": [
       "3130846"
      ]
     },
     "execution_count": 35,
     "metadata": {},
     "output_type": "execute_result"
    }
   ],
   "source": [
    "4301719 -   1170873"
   ]
  },
  {
   "cell_type": "markdown",
   "metadata": {},
   "source": [
    "We saved 3130846 with arrow. So Arrow still saved us a lot of memory, and we didn’t have to use categories. However, it didn’t save quite as much memory as categories."
   ]
  }
 ],
 "metadata": {
  "kernelspec": {
   "display_name": "base",
   "language": "python",
   "name": "python3"
  },
  "language_info": {
   "codemirror_mode": {
    "name": "ipython",
    "version": 3
   },
   "file_extension": ".py",
   "mimetype": "text/x-python",
   "name": "python",
   "nbconvert_exporter": "python",
   "pygments_lexer": "ipython3",
   "version": "3.12.2"
  }
 },
 "nbformat": 4,
 "nbformat_minor": 2
}
