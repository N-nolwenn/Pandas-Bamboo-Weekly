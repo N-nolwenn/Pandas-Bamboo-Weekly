{
 "cells": [
  {
   "cell_type": "markdown",
   "metadata": {},
   "source": [
    "# BW \\#77 Paris Olympics\n",
    "## Data and six questions\n",
    "We'll look at some data coming grom the Olympic games in France.\n",
    "- The main data will come from Codante (https://codante.io/), a Brazilian company that has provided a free API to Olympic information. This is free, so it's limited to 100 requests/minute (which should be more than enough). The API is documented at https://docs.apis.codante.io/olympic-games-english .\n",
    "- Geographic data about the Olympic venues come from Clockwork Micro (https://www.clockworkmicro.com/), which made shapefiles available in a GitHub repository at https://github.com/clockworkmicro/parisolympics2024 .\n",
    "\n",
    "We'll also use the pycountry package on PyPI (https://pypi.org/project/pycountry/).\n",
    "\n",
    "## Challenges\n",
    "The learning goals include retrieving data from APIs, working with data from different sources, grouping, applying functions to a data frame and also some work with `GeoPandas`. \n",
    "- Using the API from apis.codante.io, download all of the per-country medal information. As of this writing, the country API has a total of five pages to download; you'll want to combine them into a single data frame. Set the index to be the 3-letter country ID.\n",
    "- What countries don't seem to have any continent? What's the deal with them?\n"
   ]
  },
  {
   "cell_type": "code",
   "execution_count": 2,
   "metadata": {},
   "outputs": [],
   "source": [
    "import pandas as pd\n",
    "import requests # To perform API calls\n",
    "import pycountry"
   ]
  },
  {
   "cell_type": "markdown",
   "metadata": {},
   "source": [
    "APIs = Application Programming Interface is a way for 2 or more computer programs or components to communicate with each other. "
   ]
  },
  {
   "cell_type": "markdown",
   "metadata": {},
   "source": [
    "The easiest way to retrieve Olympics data via the API is with requests, since I can just say `requests.get(URL)`, for a given URL. In the case of this API, though, we'll need to retrieve five pages of data, with each page (according to the API documentation) specified by passing a page name-value pair along with an integer.\n",
    "\n",
    "We can do that with requests by passing not only the URL, but also {'pages':1}, a dict containing the key-value pairs we want to add to our request. The integer passed along with 'pages' will have to change, with values 1-5, as we retrieve each page of results.\n",
    "\n",
    "The results themselves will come as JSON. Fortunately, we can easily turn most JSON data into a data frame by simply passing it to `DataFrame`. We'll thus end up with one data frame for each page. If we create a list of data frames, we can then combine them into a single one with `pd.concat`.\n",
    "\n",
    "Let's start by setting up a base URL and an empty list, all_data, where we'll collect the data frames:"
   ]
  },
  {
   "cell_type": "code",
   "execution_count": 3,
   "metadata": {},
   "outputs": [
    {
     "name": "stdout",
     "output_type": "stream",
     "text": [
      "Getting page 1\n",
      "Getting page 2\n",
      "Getting page 3\n",
      "Getting page 4\n",
      "Getting page 5\n"
     ]
    }
   ],
   "source": [
    "url_base = 'https://apis.codante.io/olympic-games'\n",
    "all_data = []\n",
    "\n",
    "for page_number in range(1,6):\n",
    "    print(f'Getting page {page_number}')\n",
    "    r = requests.get(f'{url_base}/countries', {'page': page_number})\n",
    "    all_data.append(pd.DataFrame(r.json()['data']))"
   ]
  },
  {
   "cell_type": "markdown",
   "metadata": {},
   "source": [
    "Notice that when we get a response back from `requests`, we can invoke `json` on it to get Python data structures (lists and dicts). I originally tried to invoke DataFrame directly on the result of invoking `r.json()`, but saw that the actual data was under the 'data' dict key. So I ran ` DataFrame(r.json()['data'])`, giving me a data frame; I then appended it to all_data."
   ]
  },
  {
   "cell_type": "code",
   "execution_count": 4,
   "metadata": {},
   "outputs": [
    {
     "data": {
      "text/html": [
       "<div>\n",
       "<style scoped>\n",
       "    .dataframe tbody tr th:only-of-type {\n",
       "        vertical-align: middle;\n",
       "    }\n",
       "\n",
       "    .dataframe tbody tr th {\n",
       "        vertical-align: top;\n",
       "    }\n",
       "\n",
       "    .dataframe thead th {\n",
       "        text-align: right;\n",
       "    }\n",
       "</style>\n",
       "<table border=\"1\" class=\"dataframe\">\n",
       "  <thead>\n",
       "    <tr style=\"text-align: right;\">\n",
       "      <th></th>\n",
       "      <th>name</th>\n",
       "      <th>continent</th>\n",
       "      <th>flag_url</th>\n",
       "      <th>gold_medals</th>\n",
       "      <th>silver_medals</th>\n",
       "      <th>bronze_medals</th>\n",
       "      <th>total_medals</th>\n",
       "      <th>rank</th>\n",
       "      <th>rank_total_medals</th>\n",
       "    </tr>\n",
       "    <tr>\n",
       "      <th>id</th>\n",
       "      <th></th>\n",
       "      <th></th>\n",
       "      <th></th>\n",
       "      <th></th>\n",
       "      <th></th>\n",
       "      <th></th>\n",
       "      <th></th>\n",
       "      <th></th>\n",
       "      <th></th>\n",
       "    </tr>\n",
       "  </thead>\n",
       "  <tbody>\n",
       "    <tr>\n",
       "      <th>CHN</th>\n",
       "      <td>China</td>\n",
       "      <td>ASI</td>\n",
       "      <td>https://codante.s3.amazonaws.com/codante-apis/...</td>\n",
       "      <td>12</td>\n",
       "      <td>7</td>\n",
       "      <td>7</td>\n",
       "      <td>26</td>\n",
       "      <td>1</td>\n",
       "      <td>3</td>\n",
       "    </tr>\n",
       "    <tr>\n",
       "      <th>USA</th>\n",
       "      <td>EUA</td>\n",
       "      <td>AME</td>\n",
       "      <td>https://codante.s3.amazonaws.com/codante-apis/...</td>\n",
       "      <td>9</td>\n",
       "      <td>16</td>\n",
       "      <td>14</td>\n",
       "      <td>39</td>\n",
       "      <td>2</td>\n",
       "      <td>1</td>\n",
       "    </tr>\n",
       "    <tr>\n",
       "      <th>FRA</th>\n",
       "      <td>França</td>\n",
       "      <td>EUR</td>\n",
       "      <td>https://codante.s3.amazonaws.com/codante-apis/...</td>\n",
       "      <td>8</td>\n",
       "      <td>11</td>\n",
       "      <td>9</td>\n",
       "      <td>28</td>\n",
       "      <td>3</td>\n",
       "      <td>2</td>\n",
       "    </tr>\n",
       "    <tr>\n",
       "      <th>GBR</th>\n",
       "      <td>Grã-Bretanha</td>\n",
       "      <td>EUR</td>\n",
       "      <td>https://codante.s3.amazonaws.com/codante-apis/...</td>\n",
       "      <td>8</td>\n",
       "      <td>8</td>\n",
       "      <td>8</td>\n",
       "      <td>24</td>\n",
       "      <td>4</td>\n",
       "      <td>4</td>\n",
       "    </tr>\n",
       "    <tr>\n",
       "      <th>AUS</th>\n",
       "      <td>Austrália</td>\n",
       "      <td>OCE</td>\n",
       "      <td>https://codante.s3.amazonaws.com/codante-apis/...</td>\n",
       "      <td>8</td>\n",
       "      <td>6</td>\n",
       "      <td>5</td>\n",
       "      <td>19</td>\n",
       "      <td>5</td>\n",
       "      <td>5</td>\n",
       "    </tr>\n",
       "    <tr>\n",
       "      <th>...</th>\n",
       "      <td>...</td>\n",
       "      <td>...</td>\n",
       "      <td>...</td>\n",
       "      <td>...</td>\n",
       "      <td>...</td>\n",
       "      <td>...</td>\n",
       "      <td>...</td>\n",
       "      <td>...</td>\n",
       "      <td>...</td>\n",
       "    </tr>\n",
       "    <tr>\n",
       "      <th>ZAM</th>\n",
       "      <td>Zâmbia</td>\n",
       "      <td>AFR</td>\n",
       "      <td>https://codante.s3.amazonaws.com/codante-apis/...</td>\n",
       "      <td>0</td>\n",
       "      <td>0</td>\n",
       "      <td>0</td>\n",
       "      <td>0</td>\n",
       "      <td>0</td>\n",
       "      <td>0</td>\n",
       "    </tr>\n",
       "    <tr>\n",
       "      <th>ZIM</th>\n",
       "      <td>Zimbábue</td>\n",
       "      <td>AFR</td>\n",
       "      <td>https://codante.s3.amazonaws.com/codante-apis/...</td>\n",
       "      <td>0</td>\n",
       "      <td>0</td>\n",
       "      <td>0</td>\n",
       "      <td>0</td>\n",
       "      <td>0</td>\n",
       "      <td>0</td>\n",
       "    </tr>\n",
       "    <tr>\n",
       "      <th>EOR</th>\n",
       "      <td>EOR</td>\n",
       "      <td></td>\n",
       "      <td>https://codante.s3.amazonaws.com/codante-apis/...</td>\n",
       "      <td>0</td>\n",
       "      <td>0</td>\n",
       "      <td>0</td>\n",
       "      <td>0</td>\n",
       "      <td>0</td>\n",
       "      <td>0</td>\n",
       "    </tr>\n",
       "    <tr>\n",
       "      <th>AIN</th>\n",
       "      <td>AIN</td>\n",
       "      <td></td>\n",
       "      <td>https://codante.s3.amazonaws.com/codante-apis/...</td>\n",
       "      <td>0</td>\n",
       "      <td>0</td>\n",
       "      <td>0</td>\n",
       "      <td>0</td>\n",
       "      <td>0</td>\n",
       "      <td>0</td>\n",
       "    </tr>\n",
       "    <tr>\n",
       "      <th>SAM</th>\n",
       "      <td>Samoa</td>\n",
       "      <td>-</td>\n",
       "      <td>https://codante.s3.amazonaws.com/codante-apis/...</td>\n",
       "      <td>0</td>\n",
       "      <td>0</td>\n",
       "      <td>0</td>\n",
       "      <td>0</td>\n",
       "      <td>0</td>\n",
       "      <td>0</td>\n",
       "    </tr>\n",
       "  </tbody>\n",
       "</table>\n",
       "<p>203 rows × 9 columns</p>\n",
       "</div>"
      ],
      "text/plain": [
       "             name continent  \\\n",
       "id                            \n",
       "CHN         China       ASI   \n",
       "USA           EUA       AME   \n",
       "FRA        França       EUR   \n",
       "GBR  Grã-Bretanha       EUR   \n",
       "AUS     Austrália       OCE   \n",
       "..            ...       ...   \n",
       "ZAM        Zâmbia       AFR   \n",
       "ZIM      Zimbábue       AFR   \n",
       "EOR           EOR             \n",
       "AIN           AIN             \n",
       "SAM         Samoa         -   \n",
       "\n",
       "                                              flag_url  gold_medals  \\\n",
       "id                                                                    \n",
       "CHN  https://codante.s3.amazonaws.com/codante-apis/...           12   \n",
       "USA  https://codante.s3.amazonaws.com/codante-apis/...            9   \n",
       "FRA  https://codante.s3.amazonaws.com/codante-apis/...            8   \n",
       "GBR  https://codante.s3.amazonaws.com/codante-apis/...            8   \n",
       "AUS  https://codante.s3.amazonaws.com/codante-apis/...            8   \n",
       "..                                                 ...          ...   \n",
       "ZAM  https://codante.s3.amazonaws.com/codante-apis/...            0   \n",
       "ZIM  https://codante.s3.amazonaws.com/codante-apis/...            0   \n",
       "EOR  https://codante.s3.amazonaws.com/codante-apis/...            0   \n",
       "AIN  https://codante.s3.amazonaws.com/codante-apis/...            0   \n",
       "SAM  https://codante.s3.amazonaws.com/codante-apis/...            0   \n",
       "\n",
       "     silver_medals  bronze_medals  total_medals  rank  rank_total_medals  \n",
       "id                                                                        \n",
       "CHN              7              7            26     1                  3  \n",
       "USA             16             14            39     2                  1  \n",
       "FRA             11              9            28     3                  2  \n",
       "GBR              8              8            24     4                  4  \n",
       "AUS              6              5            19     5                  5  \n",
       "..             ...            ...           ...   ...                ...  \n",
       "ZAM              0              0             0     0                  0  \n",
       "ZIM              0              0             0     0                  0  \n",
       "EOR              0              0             0     0                  0  \n",
       "AIN              0              0             0     0                  0  \n",
       "SAM              0              0             0     0                  0  \n",
       "\n",
       "[203 rows x 9 columns]"
      ]
     },
     "execution_count": 4,
     "metadata": {},
     "output_type": "execute_result"
    }
   ],
   "source": [
    "df = pd.concat(all_data).set_index('id')\n",
    "df"
   ]
  },
  {
   "cell_type": "markdown",
   "metadata": {},
   "source": [
    "### What countries don't seem to have any continent? What's the deal with them?"
   ]
  },
  {
   "cell_type": "code",
   "execution_count": 11,
   "metadata": {},
   "outputs": [
    {
     "data": {
      "text/plain": [
       "array(['ASI', 'AME', 'EUR', 'OCE', 'AFR', '', '-'], dtype=object)"
      ]
     },
     "execution_count": 11,
     "metadata": {},
     "output_type": "execute_result"
    }
   ],
   "source": [
    "df['continent'].unique()"
   ]
  },
  {
   "cell_type": "code",
   "execution_count": 9,
   "metadata": {},
   "outputs": [
    {
     "data": {
      "text/html": [
       "<div>\n",
       "<style scoped>\n",
       "    .dataframe tbody tr th:only-of-type {\n",
       "        vertical-align: middle;\n",
       "    }\n",
       "\n",
       "    .dataframe tbody tr th {\n",
       "        vertical-align: top;\n",
       "    }\n",
       "\n",
       "    .dataframe thead th {\n",
       "        text-align: right;\n",
       "    }\n",
       "</style>\n",
       "<table border=\"1\" class=\"dataframe\">\n",
       "  <thead>\n",
       "    <tr style=\"text-align: right;\">\n",
       "      <th></th>\n",
       "      <th>name</th>\n",
       "      <th>continent</th>\n",
       "      <th>flag_url</th>\n",
       "      <th>gold_medals</th>\n",
       "      <th>silver_medals</th>\n",
       "      <th>bronze_medals</th>\n",
       "      <th>total_medals</th>\n",
       "      <th>rank</th>\n",
       "      <th>rank_total_medals</th>\n",
       "    </tr>\n",
       "    <tr>\n",
       "      <th>id</th>\n",
       "      <th></th>\n",
       "      <th></th>\n",
       "      <th></th>\n",
       "      <th></th>\n",
       "      <th></th>\n",
       "      <th></th>\n",
       "      <th></th>\n",
       "      <th></th>\n",
       "      <th></th>\n",
       "    </tr>\n",
       "  </thead>\n",
       "  <tbody>\n",
       "    <tr>\n",
       "      <th>EOR</th>\n",
       "      <td>EOR</td>\n",
       "      <td></td>\n",
       "      <td>https://codante.s3.amazonaws.com/codante-apis/...</td>\n",
       "      <td>0</td>\n",
       "      <td>0</td>\n",
       "      <td>0</td>\n",
       "      <td>0</td>\n",
       "      <td>0</td>\n",
       "      <td>0</td>\n",
       "    </tr>\n",
       "    <tr>\n",
       "      <th>AIN</th>\n",
       "      <td>AIN</td>\n",
       "      <td></td>\n",
       "      <td>https://codante.s3.amazonaws.com/codante-apis/...</td>\n",
       "      <td>0</td>\n",
       "      <td>0</td>\n",
       "      <td>0</td>\n",
       "      <td>0</td>\n",
       "      <td>0</td>\n",
       "      <td>0</td>\n",
       "    </tr>\n",
       "    <tr>\n",
       "      <th>SAM</th>\n",
       "      <td>Samoa</td>\n",
       "      <td>-</td>\n",
       "      <td>https://codante.s3.amazonaws.com/codante-apis/...</td>\n",
       "      <td>0</td>\n",
       "      <td>0</td>\n",
       "      <td>0</td>\n",
       "      <td>0</td>\n",
       "      <td>0</td>\n",
       "      <td>0</td>\n",
       "    </tr>\n",
       "  </tbody>\n",
       "</table>\n",
       "</div>"
      ],
      "text/plain": [
       "      name continent                                           flag_url  \\\n",
       "id                                                                        \n",
       "EOR    EOR            https://codante.s3.amazonaws.com/codante-apis/...   \n",
       "AIN    AIN            https://codante.s3.amazonaws.com/codante-apis/...   \n",
       "SAM  Samoa         -  https://codante.s3.amazonaws.com/codante-apis/...   \n",
       "\n",
       "     gold_medals  silver_medals  bronze_medals  total_medals  rank  \\\n",
       "id                                                                   \n",
       "EOR            0              0              0             0     0   \n",
       "AIN            0              0              0             0     0   \n",
       "SAM            0              0              0             0     0   \n",
       "\n",
       "     rank_total_medals  \n",
       "id                      \n",
       "EOR                  0  \n",
       "AIN                  0  \n",
       "SAM                  0  "
      ]
     },
     "execution_count": 9,
     "metadata": {},
     "output_type": "execute_result"
    }
   ],
   "source": [
    "df[(df['continent'] == '') | (df['continent'] == '-')]"
   ]
  },
  {
   "cell_type": "markdown",
   "metadata": {},
   "source": [
    "Correction\n",
    "\n",
    "While exploring this data set, I decided to see how many countries are on each continent:\n",
    "\n"
   ]
  },
  {
   "cell_type": "code",
   "execution_count": 10,
   "metadata": {},
   "outputs": [
    {
     "data": {
      "text/plain": [
       "AFR    53\n",
       "EUR    47\n",
       "ASI    44\n",
       "AME    41\n",
       "OCE    15\n",
       "        2\n",
       "-       1\n",
       "Name: continent, dtype: int64"
      ]
     },
     "execution_count": 10,
     "metadata": {},
     "output_type": "execute_result"
    }
   ],
   "source": [
    "df['continent'].value_counts()"
   ]
  },
  {
   "cell_type": "code",
   "execution_count": 12,
   "metadata": {},
   "outputs": [
    {
     "data": {
      "text/html": [
       "<div>\n",
       "<style scoped>\n",
       "    .dataframe tbody tr th:only-of-type {\n",
       "        vertical-align: middle;\n",
       "    }\n",
       "\n",
       "    .dataframe tbody tr th {\n",
       "        vertical-align: top;\n",
       "    }\n",
       "\n",
       "    .dataframe thead th {\n",
       "        text-align: right;\n",
       "    }\n",
       "</style>\n",
       "<table border=\"1\" class=\"dataframe\">\n",
       "  <thead>\n",
       "    <tr style=\"text-align: right;\">\n",
       "      <th></th>\n",
       "      <th>continent</th>\n",
       "      <th>name</th>\n",
       "    </tr>\n",
       "    <tr>\n",
       "      <th>id</th>\n",
       "      <th></th>\n",
       "      <th></th>\n",
       "    </tr>\n",
       "  </thead>\n",
       "  <tbody>\n",
       "    <tr>\n",
       "      <th>EOR</th>\n",
       "      <td></td>\n",
       "      <td>EOR</td>\n",
       "    </tr>\n",
       "    <tr>\n",
       "      <th>AIN</th>\n",
       "      <td></td>\n",
       "      <td>AIN</td>\n",
       "    </tr>\n",
       "    <tr>\n",
       "      <th>SAM</th>\n",
       "      <td>-</td>\n",
       "      <td>Samoa</td>\n",
       "    </tr>\n",
       "  </tbody>\n",
       "</table>\n",
       "</div>"
      ],
      "text/plain": [
       "    continent   name\n",
       "id                  \n",
       "EOR              EOR\n",
       "AIN              AIN\n",
       "SAM         -  Samoa"
      ]
     },
     "execution_count": 12,
     "metadata": {},
     "output_type": "execute_result"
    }
   ],
   "source": [
    "df.loc[lambda df_:df_['continent'].isin(['', '-']),['continent', 'name']]"
   ]
  },
  {
   "cell_type": "markdown",
   "metadata": {},
   "source": [
    "In the above code, I use loc to retrieve a subset of rows and columns\n",
    "\n",
    "For the row selector, I used lambda, creating an anonymous function that takes a single argument, a data frame. We then, inside of the function, run isin(['', '-']) on the data frame, getting a boolean series back. The series is True when the continent is either an empty string or just -. Specifying a boolean series in this way is often more natural and flexible than other methods.\n",
    "\n",
    "For the column selector, I pass a list of strings, the names of the columns we want to see."
   ]
  },
  {
   "cell_type": "markdown",
   "metadata": {},
   "source": [
    "We thus see that three of the teams competing in the Olympics have no continent. Which are they?\n",
    "\n",
    "- Samoa, a country that I think would classify itself as being in Oceania, much like Australia and New Zealand. I'm guessing (hoping) that the data I got was just a glitch.\n",
    "- EOR, a team of Olympic athletes who are refugees. This team has participated in Olympic games since 2016, and was previously known as ROT, for \"Refugee Olympic Team.\" France insisted that the team be known by its French initials this time around, and the acronym for \"Équipe olympique des réfugiés\" is EOR.\n",
    "- AIN, a team of Russian and Belorusian athletes, since their national teams were banned in the wake of Russia's invasion of Ukraine. In English, they were known as INA (\"Individual Neutral Athletes\"), but this year they are known by AIN, the French initials of \"Athlètes Individuels Neutres.\""
   ]
  }
 ],
 "metadata": {
  "kernelspec": {
   "display_name": "Python 3",
   "language": "python",
   "name": "python3"
  },
  "language_info": {
   "codemirror_mode": {
    "name": "ipython",
    "version": 3
   },
   "file_extension": ".py",
   "mimetype": "text/x-python",
   "name": "python",
   "nbconvert_exporter": "python",
   "pygments_lexer": "ipython3",
   "version": "3.10.10"
  }
 },
 "nbformat": 4,
 "nbformat_minor": 2
}
