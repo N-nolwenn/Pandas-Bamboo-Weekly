{
 "cells": [
  {
   "cell_type": "markdown",
   "metadata": {},
   "source": [
    "# BW \\#78 Stock Markets\n",
    "Major stock indexes in nearly every market around the world declined. Why? People had all sorts of speculation. A number of them had to do with worries about the health of the US economy, which has outperformed every other major country in both growth and unemployment. Some had to do with the fears of a regional war in the Middle East. Some had to do with Japan's raising of interest rates, affecting markets in Japan, then Europe, and then the US as they opened on Monday. Some suggested that tech stocks are too frothy.\n",
    "\n",
    "Rather than look at individual stocks, we'll look at a few of the most prominent stock indexes from around the world\n",
    "\n",
    "## Data and six questions\n",
    "The data comes from the stock market\n",
    "\n",
    "This week's data comes from the stock market. If you have a preferred place to get this information, then that's fine; go ahead and use it. I used Yahoo Finance (https://finance.yahoo.com/) for many years, but when I looked earlier today, I didn't see an obvious place to download historical data in CSV format. So I instead when to investing.com (https://investing.com) where I signed up for a free account, and then went to the \"major indices\" page at https://www.investing.com/indices/major-indices . Then, for each major index:\n",
    "\n",
    "- I clicked on the name\n",
    "- I clicked on \"historical data\"\n",
    "- I chose dates from January 1, 2005 until today (August 7, 2024)\n",
    "- I downloaded the file to my computer\n",
    "- Note that January 1st is both a holiday in most countries and was a Saturday, so the first market day was Monday, January 3rd.\n",
    "\n",
    "I downloaded data for the following indexes:\n",
    "- DAX (Germany)\n",
    "- Dow Jones Industrial Average (US)\n",
    "- FTSE 100 (UK)\n",
    "- NASDAQ (US)\n",
    "- Nikkei 225 (Tokyo)\n",
    "- S&P 500 (US)\n",
    "- Shanghai Composite (China)\n",
    "\n",
    "## Challenges\n",
    "The learning goals include multi-indexes, working with string data, and working with time data. \n",
    "- Take the seven input CSV files, and turn them into a single data frame. The index of the data frame should be a two-part multi-index, with the first name of the index on the outer layer and the date on the inner layer. We only care about the Date, Price, High, Low, Vol., and Change % columns.\n",
    "- Modify the Change % to be a float column, rather than a string column. Modify Price, High, and Low, to be floats.\n",
    "\n"
   ]
  },
  {
   "cell_type": "code",
   "execution_count": null,
   "metadata": {},
   "outputs": [],
   "source": []
  }
 ],
 "metadata": {
  "language_info": {
   "name": "python"
  }
 },
 "nbformat": 4,
 "nbformat_minor": 2
}
